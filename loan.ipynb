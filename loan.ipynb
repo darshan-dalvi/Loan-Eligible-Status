{
 "cells": [
  {
   "cell_type": "markdown",
   "metadata": {},
   "source": [
    "# **Business Problem Understanding**\n",
    "Dream Housing Finance company deais in all kinds of home loans. They have presence across all urban, semi urban and rural areas. Customer first applies for home loan and after that company validates the customer eligibility for loan.\n",
    "\n",
    "Company wants to automate the loan eligibility process (real time) based on customer detail provided while filling online application form. These details are Gender, Marital Status, Education, Number of Dependents, Income, Loan Amount, Credit History and others. To automate this process, they have provided a dataset to identify the customers segments that are eligible for loan amount so that they can specifically target these customers."
   ]
  },
  {
   "cell_type": "code",
   "execution_count": 2,
   "metadata": {},
   "outputs": [],
   "source": [
    "import numpy as np\n",
    "import pandas as pd\n",
    "import matplotlib.pyplot as plt\n",
    "import seaborn as sns\n",
    "\n",
    "import warnings\n",
    "warnings.filterwarnings('ignore')"
   ]
  },
  {
   "cell_type": "code",
   "execution_count": null,
   "metadata": {},
   "outputs": [],
   "source": [
    "data = pd.read_csv('LoanData.csv')\n",
    "data.head()"
   ]
  },
  {
   "cell_type": "code",
   "execution_count": null,
   "metadata": {},
   "outputs": [],
   "source": [
    "data.columns"
   ]
  },
  {
   "cell_type": "markdown",
   "metadata": {},
   "source": [
    "# **Data Understanding**\n",
    " - Loan_ID  ---> Unique loan id\n",
    " - Gender  ---> Male / female\n",
    " - Married  ---> Applicant Married or not\n",
    " - Dependents  ---> Number of dependents\n",
    " - Education  ---> Applicants Education\n",
    " - Self_Employed  ---> Self employed or not\n",
    " - ApplicantIncome  ---> Applicant income\n",
    " - CoapplicantIncome  ---> Coapplicant income\n",
    " - LoanAmount  ---> Loan amount in thousands\n",
    " - Loan_Amount_Term  ---> Loan amount term in months\n",
    " - Credit_History  ---> Credit history meets guidlines\n",
    " - Property_Area  ---> Urban or rural area\n",
    " - Loan_Status  ---> Loan approved or not **Target Varible**"
   ]
  },
  {
   "cell_type": "code",
   "execution_count": null,
   "metadata": {},
   "outputs": [],
   "source": [
    "data.info()"
   ]
  },
  {
   "cell_type": "code",
   "execution_count": null,
   "metadata": {},
   "outputs": [],
   "source": [
    "data['Loan_ID'].nunique()"
   ]
  },
  {
   "cell_type": "markdown",
   "metadata": {},
   "source": [
    "**Drop Unimportant columns as per the Feature selection (Filter Methods)**"
   ]
  },
  {
   "cell_type": "code",
   "execution_count": 7,
   "metadata": {},
   "outputs": [],
   "source": [
    "data.drop(columns=['Loan_ID'],inplace= True)"
   ]
  },
  {
   "cell_type": "code",
   "execution_count": null,
   "metadata": {},
   "outputs": [],
   "source": [
    "data['Gender'].unique()"
   ]
  },
  {
   "cell_type": "code",
   "execution_count": null,
   "metadata": {},
   "outputs": [],
   "source": [
    "data['Gender'].value_counts()"
   ]
  },
  {
   "cell_type": "code",
   "execution_count": null,
   "metadata": {},
   "outputs": [],
   "source": [
    "data['Married'].unique()"
   ]
  },
  {
   "cell_type": "code",
   "execution_count": null,
   "metadata": {},
   "outputs": [],
   "source": [
    "data['Married'].value_counts()"
   ]
  },
  {
   "cell_type": "code",
   "execution_count": null,
   "metadata": {},
   "outputs": [],
   "source": [
    "data['Dependents'].unique()"
   ]
  },
  {
   "cell_type": "code",
   "execution_count": null,
   "metadata": {},
   "outputs": [],
   "source": [
    "data['Dependents'].value_counts()"
   ]
  },
  {
   "cell_type": "code",
   "execution_count": null,
   "metadata": {},
   "outputs": [],
   "source": [
    "data['Education'].unique()"
   ]
  },
  {
   "cell_type": "code",
   "execution_count": null,
   "metadata": {},
   "outputs": [],
   "source": [
    "data['Education'].value_counts()"
   ]
  },
  {
   "cell_type": "code",
   "execution_count": null,
   "metadata": {},
   "outputs": [],
   "source": [
    "data['Self_Employed'].unique()"
   ]
  },
  {
   "cell_type": "code",
   "execution_count": null,
   "metadata": {},
   "outputs": [],
   "source": [
    "data['Self_Employed'].value_counts()"
   ]
  },
  {
   "cell_type": "code",
   "execution_count": null,
   "metadata": {},
   "outputs": [],
   "source": [
    "data['ApplicantIncome'].describe()"
   ]
  },
  {
   "cell_type": "code",
   "execution_count": null,
   "metadata": {},
   "outputs": [],
   "source": [
    "data['CoapplicantIncome'].describe()"
   ]
  },
  {
   "cell_type": "markdown",
   "metadata": {},
   "source": [
    "**Create New columns as per the Reqirement**"
   ]
  },
  {
   "cell_type": "code",
   "execution_count": 20,
   "metadata": {},
   "outputs": [],
   "source": [
    "data['Income'] = data['ApplicantIncome'] + data['CoapplicantIncome']\n",
    "data.drop(columns=['ApplicantIncome','CoapplicantIncome'],inplace=True)"
   ]
  },
  {
   "cell_type": "code",
   "execution_count": null,
   "metadata": {},
   "outputs": [],
   "source": [
    "data['Income'].describe()"
   ]
  },
  {
   "cell_type": "code",
   "execution_count": null,
   "metadata": {},
   "outputs": [],
   "source": [
    "data['Loan_Amount_Term'].unique()"
   ]
  },
  {
   "cell_type": "code",
   "execution_count": null,
   "metadata": {},
   "outputs": [],
   "source": [
    "data['Loan_Amount_Term'].value_counts()"
   ]
  },
  {
   "cell_type": "code",
   "execution_count": null,
   "metadata": {},
   "outputs": [],
   "source": [
    "data['Credit_History'].unique()"
   ]
  },
  {
   "cell_type": "code",
   "execution_count": 25,
   "metadata": {},
   "outputs": [],
   "source": [
    "data['Credit_History']= data['Credit_History'].replace({1:'good',0:'bad'})"
   ]
  },
  {
   "cell_type": "code",
   "execution_count": null,
   "metadata": {},
   "outputs": [],
   "source": [
    "data[\"Credit_History\"].unique()"
   ]
  },
  {
   "cell_type": "code",
   "execution_count": null,
   "metadata": {},
   "outputs": [],
   "source": [
    "data['Credit_History'].value_counts()"
   ]
  },
  {
   "cell_type": "code",
   "execution_count": null,
   "metadata": {},
   "outputs": [],
   "source": [
    "data['Property_Area'].unique()"
   ]
  },
  {
   "cell_type": "code",
   "execution_count": null,
   "metadata": {},
   "outputs": [],
   "source": [
    "data['Property_Area'].value_counts"
   ]
  },
  {
   "cell_type": "code",
   "execution_count": null,
   "metadata": {},
   "outputs": [],
   "source": [
    "data['Loan_Status'].unique()"
   ]
  },
  {
   "cell_type": "code",
   "execution_count": null,
   "metadata": {},
   "outputs": [],
   "source": [
    "data['Loan_Status'].value_counts()"
   ]
  },
  {
   "cell_type": "code",
   "execution_count": 32,
   "metadata": {},
   "outputs": [],
   "source": [
    "continous = ['Income','LoanAmount']\n",
    "\n",
    "discrete_categorical = ['Gender', 'Married', 'Education',\n",
    "                        'Self_Employed', 'Credit_History',\n",
    "                        'Property_Area', 'Loan_Status']\n",
    "\n",
    "discrete_count =['Dependents','Loan_Amount_Term']"
   ]
  },
  {
   "cell_type": "markdown",
   "metadata": {},
   "source": [
    "**Exploratory Data Analysis (EDA)**"
   ]
  },
  {
   "cell_type": "markdown",
   "metadata": {},
   "source": [
    "For Continous Varible"
   ]
  },
  {
   "cell_type": "code",
   "execution_count": null,
   "metadata": {},
   "outputs": [],
   "source": [
    "data[continous].describe().T"
   ]
  },
  {
   "cell_type": "code",
   "execution_count": null,
   "metadata": {},
   "outputs": [],
   "source": [
    "plt.rcParams['figure.figsize'] = (18,8)\n",
    "\n",
    "plt.subplot(1,2,1)\n",
    "sns.histplot(data['Income'],kde=True)\n",
    "\n",
    "plt.subplot(1,2,2)\n",
    "sns.histplot(data['LoanAmount'],kde=True)\n",
    "\n",
    "plt.suptitle('Univariate Analysis on Numerical Columns')\n",
    "plt.show()"
   ]
  },
  {
   "cell_type": "code",
   "execution_count": null,
   "metadata": {},
   "outputs": [],
   "source": [
    "data[continous].skew()"
   ]
  },
  {
   "cell_type": "code",
   "execution_count": null,
   "metadata": {},
   "outputs": [],
   "source": [
    "sns.heatmap(data[continous].corr(), annot=True)\n",
    "plt.show()"
   ]
  },
  {
   "cell_type": "code",
   "execution_count": null,
   "metadata": {},
   "outputs": [],
   "source": [
    "sns.pairplot(data[continous])\n",
    "plt.show()"
   ]
  },
  {
   "cell_type": "markdown",
   "metadata": {},
   "source": [
    "For discrete Varible"
   ]
  },
  {
   "cell_type": "code",
   "execution_count": null,
   "metadata": {},
   "outputs": [],
   "source": [
    "data[discrete_categorical].describe().T"
   ]
  },
  {
   "cell_type": "code",
   "execution_count": null,
   "metadata": {},
   "outputs": [],
   "source": [
    "plt.rcParams['figure.figsize'] = (18,8)\n",
    "\n",
    "plt.subplot(2,3,1)\n",
    "sns.countplot(data['Gender'])\n",
    "\n",
    "plt.subplot(2,3,2)\n",
    "sns.countplot(data['Married'])\n",
    "\n",
    "plt.subplot(2,3,3)\n",
    "sns.countplot(data['Self_Employed'])\n",
    "\n",
    "plt.subplot(2,3,4)\n",
    "sns.countplot(data['Property_Area'])\n",
    "\n",
    "plt.subplot(2,3,5)\n",
    "sns.countplot(data['Education'])\n",
    "\n",
    "plt.subplot(2,3,6)\n",
    "sns.countplot(data['Loan_Status'])\n",
    "\n",
    "plt.suptitle('Univariate Analysis on Categorical Columns')\n",
    "plt.show()"
   ]
  },
  {
   "cell_type": "markdown",
   "metadata": {},
   "source": [
    "**Checking the Missing values**"
   ]
  },
  {
   "cell_type": "code",
   "execution_count": null,
   "metadata": {},
   "outputs": [],
   "source": [
    "data.isnull().sum()"
   ]
  },
  {
   "cell_type": "markdown",
   "metadata": {},
   "source": [
    "**Checking for skewness**"
   ]
  },
  {
   "cell_type": "code",
   "execution_count": null,
   "metadata": {},
   "outputs": [],
   "source": [
    "data[continous].skew()"
   ]
  },
  {
   "cell_type": "markdown",
   "metadata": {},
   "source": [
    "**Checking the Outliers**"
   ]
  },
  {
   "cell_type": "code",
   "execution_count": null,
   "metadata": {},
   "outputs": [],
   "source": [
    "# Visulize using boxplot\n",
    "\n",
    "plt.subplot(1,2,1)\n",
    "sns.boxplot(data['Income'])\n",
    "\n",
    "plt.subplot(1,2,2)\n",
    "sns.boxplot(data['LoanAmount'])\n",
    "\n",
    "plt.suptitle('Outliers in the Data')\n",
    "plt.show()"
   ]
  },
  {
   "cell_type": "markdown",
   "metadata": {},
   "source": [
    "# **Step-3 Data Preprocessing**\n",
    "1. **Data Cleaning**\n",
    "    - Wrong Data \n",
    "    - Missing Values\n",
    "    - Wrong Data Type\n",
    "    - Duplicate Data\n",
    "    - Outliers\n",
    "2. **Data Wrangling**\n",
    "    - Transformation (applicable on continous)\n",
    "    - Scaling (applicable on continous)\n",
    "    - Encoding (applicable on discrete categorical)\n",
    "    - **Dont Apply Data Wrangling on count Varible**"
   ]
  },
  {
   "cell_type": "markdown",
   "metadata": {},
   "source": [
    "**Worng Data Treatement**"
   ]
  },
  {
   "cell_type": "code",
   "execution_count": 43,
   "metadata": {},
   "outputs": [],
   "source": [
    "data['Dependents']=data['Dependents'].replace({\"3+\":3})"
   ]
  },
  {
   "cell_type": "markdown",
   "metadata": {},
   "source": [
    "**Missing Value Treatment**"
   ]
  },
  {
   "cell_type": "code",
   "execution_count": 44,
   "metadata": {},
   "outputs": [],
   "source": [
    "data['Dependents']=data['Dependents'].fillna(0)\n",
    "\n",
    "data['Gender']=data['Gender'].fillna(data['Gender'].mode()[0])\n",
    "data['Married']=data['Married'].fillna(data['Married'].mode()[0])\n",
    "data['Self_Employed']=data['Self_Employed'].fillna(data['Self_Employed'].mode()[0])\n",
    "\n",
    "data = data.dropna(subset=[\"Income\",'LoanAmount','Loan_Amount_Term','Credit_History'])"
   ]
  },
  {
   "cell_type": "markdown",
   "metadata": {},
   "source": [
    "**Data Type Conversion**"
   ]
  },
  {
   "cell_type": "code",
   "execution_count": 45,
   "metadata": {},
   "outputs": [],
   "source": [
    "data['Dependents'] = data['Dependents'].astype('int')\n",
    "data['Loan_Amount_Term'] = data['Loan_Amount_Term'].astype('int')"
   ]
  },
  {
   "cell_type": "markdown",
   "metadata": {},
   "source": [
    "**Outlier Treatment**"
   ]
  },
  {
   "cell_type": "code",
   "execution_count": 46,
   "metadata": {},
   "outputs": [],
   "source": [
    "# outlier should be retrained"
   ]
  },
  {
   "cell_type": "markdown",
   "metadata": {},
   "source": [
    "**Transformation**"
   ]
  },
  {
   "cell_type": "code",
   "execution_count": 47,
   "metadata": {},
   "outputs": [],
   "source": [
    "from scipy.stats import boxcox\n",
    "data['Income'],a = boxcox(data['Income'])\n",
    "data['LoanAmount'],c = boxcox(data['LoanAmount'])"
   ]
  },
  {
   "cell_type": "code",
   "execution_count": null,
   "metadata": {},
   "outputs": [],
   "source": [
    "data[continous].skew()"
   ]
  },
  {
   "cell_type": "markdown",
   "metadata": {},
   "source": [
    "**Encoding**"
   ]
  },
  {
   "cell_type": "code",
   "execution_count": 49,
   "metadata": {},
   "outputs": [],
   "source": [
    "data['Gender'] = data['Gender'].replace({'Male': 1, 'Female':0})\n",
    "data['Married'] = data['Married'].replace({'Yes': 1, 'No':0})\n",
    "data['Education'] = data['Education'].replace({'Graduate': 1, 'Not Graduate':0})\n",
    "data['Self_Employed'] = data['Self_Employed'].replace({'Yes':1, 'No':0})\n",
    "data['Property_Area'] = data['Property_Area'].replace({'Rural': 0, 'Semiurban': 1, 'Urban':2})\n",
    "data['Credit_History'] = data['Credit_History'].replace({'good': 1, 'bad' : 0})\n",
    "data['Loan_Status'] = data['Loan_Status'].replace({'Y':1, 'N':0})"
   ]
  },
  {
   "cell_type": "code",
   "execution_count": null,
   "metadata": {},
   "outputs": [],
   "source": [
    "data.head()"
   ]
  },
  {
   "cell_type": "markdown",
   "metadata": {},
   "source": [
    "**X & Y**"
   ]
  },
  {
   "cell_type": "code",
   "execution_count": 51,
   "metadata": {},
   "outputs": [],
   "source": [
    "X = data.drop('Loan_Status',axis=1)\n",
    "y = data['Loan_Status']"
   ]
  },
  {
   "cell_type": "markdown",
   "metadata": {},
   "source": [
    "**Best Random State**"
   ]
  },
  {
   "cell_type": "code",
   "execution_count": null,
   "metadata": {},
   "outputs": [],
   "source": [
    "Train = []\n",
    "CV = []\n",
    "\n",
    "for i in range (0,100):\n",
    "    from sklearn.model_selection import train_test_split\n",
    "    X_train, X_test, y_train, y_test = train_test_split(X,y, test_size=0.2, random_state = i)\n",
    "    \n",
    "    from sklearn.linear_model import LinearRegression\n",
    "    model = LinearRegression()\n",
    "    model.fit(X_train,y_train)\n",
    "    \n",
    "    ypred_train = model.predict(X_train)\n",
    "    \n",
    "    from sklearn.metrics import r2_score\n",
    "    Train.append(r2_score(y_train,ypred_train))\n",
    "    \n",
    "    from sklearn.model_selection import cross_val_score\n",
    "    CV.append(cross_val_score(model,X_train,y_train,cv=5).mean())\n",
    "\n",
    "em = pd.DataFrame({'Train':Train,'CV':CV})\n",
    "gm = em[(abs(em['Train']-em['CV'])<=0.05)]\n",
    "rs = gm [gm['CV']==gm['CV'].max()].index.tolist()[0]\n",
    "print('Best Random State Number :',rs)"
   ]
  },
  {
   "cell_type": "markdown",
   "metadata": {},
   "source": [
    "**Train Test Split**"
   ]
  },
  {
   "cell_type": "code",
   "execution_count": 53,
   "metadata": {},
   "outputs": [],
   "source": [
    "from sklearn.model_selection import train_test_split\n",
    "X_train, X_test, y_train, y_test = train_test_split(X,y, test_size=0.2, random_state = 10)"
   ]
  },
  {
   "cell_type": "markdown",
   "metadata": {},
   "source": [
    "# **Modelling**"
   ]
  },
  {
   "cell_type": "code",
   "execution_count": 54,
   "metadata": {},
   "outputs": [],
   "source": [
    "from sklearn.neighbors import KNeighborsClassifier\n",
    "from sklearn.svm import SVC\n",
    "from sklearn.tree import DecisionTreeClassifier\n",
    "from sklearn.ensemble import RandomForestClassifier, AdaBoostClassifier, GradientBoostingClassifier\n",
    "from xgboost import XGBClassifier\n",
    "\n",
    "from sklearn.model_selection import GridSearchCV\n",
    "\n",
    "from sklearn.metrics import accuracy_score, classification_report, confusion_matrix"
   ]
  },
  {
   "cell_type": "markdown",
   "metadata": {},
   "source": [
    "**Logistic Regression**"
   ]
  },
  {
   "cell_type": "code",
   "execution_count": null,
   "metadata": {},
   "outputs": [],
   "source": [
    "# Modelling\n",
    "from sklearn.linear_model import LogisticRegression\n",
    "logistic_model = LogisticRegression()\n",
    "logistic_model.fit(X_train,y_train)\n",
    "\n",
    "# Predict & Evaluate on train data\n",
    "y_pred_train = logistic_model.predict(X_train) # default thresold value is 0.5\n",
    "print(\"Train Accuracy :\", accuracy_score(y_train, y_pred_train))\n",
    "\n",
    "# Cross Validation on train data\n",
    "print('CV Score :', cross_val_score(logistic_model,X_train,y_train,cv=5,scoring=\"accuracy\").mean())\n",
    "\n",
    "# Predict on test data\n",
    "y_pred_test = logistic_model.predict(X_test)\n",
    "print(\"Test Accuracy :\", accuracy_score(y_test, y_pred_test))"
   ]
  },
  {
   "cell_type": "code",
   "execution_count": null,
   "metadata": {},
   "outputs": [],
   "source": [
    "print(confusion_matrix(y_test,y_pred_test))\n",
    "print(classification_report(y_test,y_pred_test))"
   ]
  },
  {
   "cell_type": "code",
   "execution_count": null,
   "metadata": {},
   "outputs": [],
   "source": [
    "from sklearn.metrics import roc_curve,auc,RocCurveDisplay,roc_auc_score\n",
    "\n",
    "fpr, tpr, thresholds = roc_curve(y_test,y_pred_test)\n",
    "roc_auc = auc(fpr,tpr)\n",
    "RocCurveDisplay(fpr=fpr,tpr=tpr,roc_auc=roc_auc).plot()\n",
    "plt.show()"
   ]
  },
  {
   "cell_type": "code",
   "execution_count": null,
   "metadata": {},
   "outputs": [],
   "source": [
    "print ('AUC Score:',roc_auc_score(y_test,y_pred_test))"
   ]
  },
  {
   "cell_type": "markdown",
   "metadata": {},
   "source": [
    "**KNN**"
   ]
  },
  {
   "cell_type": "code",
   "execution_count": null,
   "metadata": {},
   "outputs": [],
   "source": [
    "# Hyperparameter Tuning\n",
    "from sklearn.model_selection import GridSearchCV\n",
    "\n",
    "# Define the estimator and parameter grid\n",
    "estimator = KNeighborsClassifier()\n",
    "param_grid = {'n_neighbors': list(range(1, 50)), 'p': [1, 2]}\n",
    "\n",
    "# Perform Grid Search\n",
    "knn_grid = GridSearchCV(estimator, param_grid, cv=5, scoring='accuracy')\n",
    "knn_grid.fit(X_train, y_train)\n",
    "\n",
    "# KNN Model with Best Parameters\n",
    "knn_grid.best_estimator_"
   ]
  },
  {
   "cell_type": "code",
   "execution_count": null,
   "metadata": {},
   "outputs": [],
   "source": [
    "# Modelling\n",
    "knn_model = knn_grid.best_estimator_\n",
    "knn_model.fit(X_train,y_train)\n",
    "\n",
    "# Predicting\n",
    "y_pred = knn_model.predict(X_train)\n",
    "print (\"KNN Model Accuracy:\", accuracy_score(y_train, y_pred))\n",
    "\n",
    "#Cross Validation on Train data\n",
    "print (\"KNN Model Cross Validation Accuracy:\", cross_val_score(knn_model, X_train, y_train, cv=5, scoring=\"accuracy\").mean())\n",
    "\n",
    "# Predicting on Test data\n",
    "y_pred_test = knn_model.predict(X_test)\n",
    "print (\"KNN Model Test Accuracy:\", accuracy_score(y_test, y_pred_test))"
   ]
  },
  {
   "cell_type": "markdown",
   "metadata": {},
   "source": [
    "**SVM**"
   ]
  },
  {
   "cell_type": "code",
   "execution_count": 61,
   "metadata": {},
   "outputs": [],
   "source": [
    "# Hyperparameter Tuning\n",
    "from sklearn.svm import SVC\n",
    "\n",
    "# Define the estimator and parameter grid\n",
    "estimator = SVC()\n",
    "param_grid = {'C': [0.01,0.1,1], 'kernel': ['linear', 'rbf', 'poly','sigmoid']}\n",
    "\n",
    "# Perform Grid Search\n",
    "svm_grid = GridSearchCV(estimator, param_grid, cv=5, scoring='accuracy')\n",
    "svm_grid.fit(X_train, y_train)\n",
    "\n",
    "# KNN Model with Best Parameters\n",
    "svm_grid.best_estimator_"
   ]
  },
  {
   "cell_type": "code",
   "execution_count": 62,
   "metadata": {},
   "outputs": [],
   "source": [
    "# Modelling\n",
    "svm_model = svm_grid.best_estimator_\n",
    "svm_model.fit(X_train,y_train)\n",
    "\n",
    "# Predicting\n",
    "y_pred = svm_model.predict(X_train)\n",
    "print (\"SVM Model Accuracy:\", accuracy_score(y_train, y_pred))\n",
    "\n",
    "#Cross Validation on Train data\n",
    "print (\"SVM Model Cross Validation Accuracy:\", cross_val_score(svm_model, X_train, y_train, cv=5, scoring=\"accuracy\").mean())\n",
    "\n",
    "# Predicting on Test data\n",
    "y_pred_test = svm_model.predict(X_test)\n",
    "print (\"SVM Model Test Accuracy:\", accuracy_score(y_test, y_pred_test))"
   ]
  },
  {
   "cell_type": "markdown",
   "metadata": {},
   "source": [
    "**Decision Tree**"
   ]
  },
  {
   "cell_type": "code",
   "execution_count": null,
   "metadata": {},
   "outputs": [],
   "source": [
    "model = DecisionTreeClassifier(random_state = True)\n",
    "model.fit(X_train,y_train)"
   ]
  },
  {
   "cell_type": "code",
   "execution_count": null,
   "metadata": {},
   "outputs": [],
   "source": [
    "from sklearn.tree import plot_tree\n",
    "plt.figure(figsize=(20,20),dpi=300)\n",
    "plot_tree(model,filled=True,\n",
    "          feature_names=X_train.columns.tolist(),\n",
    "          class_names=['0','1'])\n",
    "plt.show()"
   ]
  },
  {
   "cell_type": "code",
   "execution_count": null,
   "metadata": {},
   "outputs": [],
   "source": [
    "# Hpper Parameter tuning\n",
    "estimator = DecisionTreeClassifier(random_state=True)\n",
    "\n",
    "param_grid = {'criterion':['gini','entropy'],\n",
    "              'max_depth':list(range(1,16))}\n",
    "\n",
    "dt_grid = GridSearchCV(estimator,param_grid,scoring='accuracy',cv=5)\n",
    "dt_grid.fit(X_train,y_train)\n",
    "\n",
    "dt = dt_grid.best_estimator_\n",
    "dt"
   ]
  },
  {
   "cell_type": "code",
   "execution_count": null,
   "metadata": {},
   "outputs": [],
   "source": [
    "# Important Features \n",
    "feats_ab = pd.DataFrame(data=dt.feature_importances_,\n",
    "                        index=X.columns,\n",
    "                        columns=['Importance'])\n",
    "\n",
    "imporatant_features_dt = feats_ab[feats_ab['Importance']>0].index.tolist()\n",
    "imporatant_features_dt"
   ]
  },
  {
   "cell_type": "markdown",
   "metadata": {},
   "source": [
    "**Creating Decision tree model with important parameters and important features**"
   ]
  },
  {
   "cell_type": "code",
   "execution_count": null,
   "metadata": {},
   "outputs": [],
   "source": [
    "# Selection train & Test Data\n",
    "X_train_dt = X_train[imporatant_features_dt]\n",
    "X_test_dt = X_test[imporatant_features_dt]\n",
    "\n",
    "# Modelling \n",
    "dt = dt_grid.best_estimator_\n",
    "dt.fit(X_train_dt,y_train)\n",
    "\n",
    "# Evaluaion\n",
    "ypred_train = dt.predict(X_train_dt)\n",
    "ypred_test = dt.predict(X_test_dt)\n",
    "\n",
    "print (\"Train Accuracy :\",accuracy_score(y_train,ypred_train))\n",
    "print (\"CV Score :\",cross_val_score(dt,X_train_dt,y_train,cv=5,scoring='accuracy').mean())\n",
    "print (\"Test Accuracy :\",accuracy_score(y_test,ypred_test))"
   ]
  },
  {
   "cell_type": "markdown",
   "metadata": {},
   "source": [
    "**Random Forest Classifier**"
   ]
  },
  {
   "cell_type": "code",
   "execution_count": null,
   "metadata": {},
   "outputs": [],
   "source": [
    "# Hyper parameter tunin\n",
    "estimator = RandomForestClassifier(random_state=True)\n",
    "\n",
    "param_grid = {'n_estimators':list(range(1,51))}\n",
    "\n",
    "rf_grid = GridSearchCV(estimator,param_grid, scoring=\"accuracy\",cv=5)\n",
    "rf_grid.fit(X_train,y_train)\n",
    "\n",
    "rf = rf_grid.best_estimator_\n",
    "rf"
   ]
  },
  {
   "cell_type": "code",
   "execution_count": null,
   "metadata": {},
   "outputs": [],
   "source": [
    "# Important features\n",
    "feats_rf = pd.DataFrame(data = rf.feature_importances_,\n",
    "                        index=X.columns,\n",
    "                        columns = ['Importance'])\n",
    "\n",
    "imporatant_features_rf = feats_rf[feats_rf['Importance']>0].index.tolist()\n",
    "imporatant_features_rf"
   ]
  },
  {
   "cell_type": "code",
   "execution_count": null,
   "metadata": {},
   "outputs": [],
   "source": [
    "X_train_rf = X_train[imporatant_features_rf]\n",
    "X_test_rf = X_test[imporatant_features_rf]\n",
    "\n",
    "#Modelling\n",
    "rf = rf_grid.best_estimator_\n",
    "rf.fit(X_train_rf,y_train)\n",
    "\n",
    "# Evaluation\n",
    "ypred_train = rf.predict(X_train_rf)\n",
    "ypred_test = rf.predict(X_test_rf)\n",
    "\n",
    "print (\"Train Accuracy :\",accuracy_score(y_train,ypred_train))\n",
    "print (\"CV Score :\",cross_val_score(rf,X_train_rf,y_train,cv=5,scoring='accuracy').mean())\n",
    "print (\"Test Accuracy :\",accuracy_score(y_test,ypred_test))"
   ]
  },
  {
   "cell_type": "markdown",
   "metadata": {},
   "source": [
    "**AdaBoost Classifer**"
   ]
  },
  {
   "cell_type": "code",
   "execution_count": null,
   "metadata": {},
   "outputs": [],
   "source": [
    "estimator = AdaBoostClassifier(random_state=True)\n",
    "param_grid = {'n_estimators':list(range(1,51))}\n",
    "\n",
    "ab_grid = GridSearchCV(estimator,param_grid, scoring=\"accuracy\",cv=5)\n",
    "ab_grid.fit(X_train,y_train)\n",
    "\n",
    "ab = ab_grid.best_estimator_\n",
    "ab"
   ]
  },
  {
   "cell_type": "code",
   "execution_count": null,
   "metadata": {},
   "outputs": [],
   "source": [
    "# Important features\n",
    "feats_ab = pd.DataFrame(data = ab.feature_importances_,\n",
    "                        index=X.columns,\n",
    "                        columns = ['Importance'])\n",
    "\n",
    "imporatant_features_ab = feats_ab[feats_ab['Importance']>0].index.tolist()\n",
    "imporatant_features_ab"
   ]
  },
  {
   "cell_type": "code",
   "execution_count": null,
   "metadata": {},
   "outputs": [],
   "source": [
    "X_train_ab = X_train[imporatant_features_ab]\n",
    "X_test_ab = X_test[imporatant_features_ab]\n",
    "\n",
    "#Modelling\n",
    "ab = ab_grid.best_estimator_\n",
    "ab.fit(X_train_ab,y_train)\n",
    "\n",
    "# Evaluation\n",
    "ypred_train = ab.predict(X_train_ab)\n",
    "ypred_test = ab.predict(X_test_ab)\n",
    "\n",
    "print (\"Train Accuracy :\",accuracy_score(y_train,ypred_train))\n",
    "print (\"CV Score :\",cross_val_score(ab,X_train_ab,y_train,cv=5,scoring='accuracy').mean())\n",
    "print (\"Test Accuracy :\",accuracy_score(y_test,ypred_test))"
   ]
  },
  {
   "cell_type": "markdown",
   "metadata": {},
   "source": [
    "**Gradient Boost Classifier**"
   ]
  },
  {
   "cell_type": "code",
   "execution_count": null,
   "metadata": {},
   "outputs": [],
   "source": [
    "estimator = GradientBoostingClassifier(random_state=True)\n",
    "param_grid = {'n_estimators':list(range(1,10)),\n",
    "              'learning_rate':[0.1,0.2,0.3,0.4,0.5,0.7,0.8,0.9,1.0]}\n",
    "\n",
    "gb_grid = GridSearchCV(estimator,param_grid, scoring=\"accuracy\",cv=5)\n",
    "gb_grid.fit(X_train,y_train)\n",
    "\n",
    "gb = gb_grid.best_estimator_\n",
    "gb"
   ]
  },
  {
   "cell_type": "code",
   "execution_count": null,
   "metadata": {},
   "outputs": [],
   "source": [
    "# Important features\n",
    "feats_gb = pd.DataFrame(data = gb.feature_importances_,\n",
    "                        index=X.columns,\n",
    "                        columns = ['Importance'])\n",
    "\n",
    "imporatant_features_gb = feats_gb[feats_gb['Importance']>0].index.tolist()\n",
    "imporatant_features_gb"
   ]
  },
  {
   "cell_type": "code",
   "execution_count": null,
   "metadata": {},
   "outputs": [],
   "source": [
    "X_train_gb = X_train[imporatant_features_gb]\n",
    "X_test_gb = X_test[imporatant_features_gb]\n",
    "\n",
    "#Modelling\n",
    "gb = gb_grid.best_estimator_\n",
    "gb.fit(X_train_gb,y_train)\n",
    "\n",
    "# Evaluation\n",
    "ypred_train = gb.predict(X_train_gb)\n",
    "ypred_test = gb.predict(X_test_gb)\n",
    "\n",
    "print (\"Train Accuracy :\",accuracy_score(y_train,ypred_train))\n",
    "print (\"CV Score :\",cross_val_score(gb,X_train_gb,y_train,cv=5,scoring='accuracy').mean())\n",
    "print (\"Test Accuracy :\",accuracy_score(y_test,ypred_test))"
   ]
  },
  {
   "cell_type": "markdown",
   "metadata": {},
   "source": [
    "**XGBoost Classifier**"
   ]
  },
  {
   "cell_type": "code",
   "execution_count": null,
   "metadata": {},
   "outputs": [],
   "source": [
    "# Hyperparameter tuning\n",
    "estimator = XGBClassifier()\n",
    "param_grid = {'n_estimators':[10,20,40,100],\n",
    "              'max_depth':[3,4,5],\n",
    "              'gamma':[0,0.15,0.3,0.5,1]}\n",
    "\n",
    "xgb_grid = GridSearchCV(estimator,param_grid, scoring=\"accuracy\",cv=5)\n",
    "xgb_grid.fit(X_train,y_train)\n",
    "\n",
    "xgb = xgb_grid.best_estimator_\n",
    "xgb"
   ]
  },
  {
   "cell_type": "code",
   "execution_count": null,
   "metadata": {},
   "outputs": [],
   "source": [
    "# Important features\n",
    "feats_xgb = pd.DataFrame(data = xgb.feature_importances_,\n",
    "                        index=X.columns,\n",
    "                        columns = ['Importance'])\n",
    "\n",
    "imporatant_features_xgb = feats_xgb[feats_xgb['Importance']>0].index.tolist()\n",
    "imporatant_features_xgb"
   ]
  },
  {
   "cell_type": "code",
   "execution_count": null,
   "metadata": {},
   "outputs": [],
   "source": [
    "X_train_xgb = X_train[imporatant_features_xgb]\n",
    "X_test_xgb = X_test[imporatant_features_xgb]\n",
    "\n",
    "#Modelling\n",
    "xgb = xgb_grid.best_estimator_\n",
    "xgb.fit(X_train_xgb,y_train)\n",
    "\n",
    "# Evaluation\n",
    "ypred_train = xgb.predict(X_train_xgb)\n",
    "ypred_test = xgb.predict(X_test_xgb)\n",
    "\n",
    "print (\"Train Accuracy :\",accuracy_score(y_train,ypred_train))\n",
    "print (\"CV Score :\",cross_val_score(xgb,X_train_xgb,y_train,cv=5,scoring='accuracy').mean())\n",
    "print (\"Test Accuracy :\",accuracy_score(y_test,ypred_test))"
   ]
  },
  {
   "cell_type": "markdown",
   "metadata": {},
   "source": [
    "# **Save the best model**"
   ]
  },
  {
   "cell_type": "code",
   "execution_count": null,
   "metadata": {},
   "outputs": [],
   "source": [
    "from joblib import dump\n",
    "\n",
    "dump(dt,'loan.joblib')"
   ]
  }
 ],
 "metadata": {
  "kernelspec": {
   "display_name": "base",
   "language": "python",
   "name": "python3"
  },
  "language_info": {
   "codemirror_mode": {
    "name": "ipython",
    "version": 3
   },
   "file_extension": ".py",
   "mimetype": "text/x-python",
   "name": "python",
   "nbconvert_exporter": "python",
   "pygments_lexer": "ipython3",
   "version": "3.12.4"
  }
 },
 "nbformat": 4,
 "nbformat_minor": 2
}
